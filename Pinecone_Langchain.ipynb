{
  "nbformat": 4,
  "nbformat_minor": 0,
  "metadata": {
    "colab": {
      "provenance": []
    },
    "kernelspec": {
      "name": "python3",
      "display_name": "Python 3"
    },
    "language_info": {
      "name": "python"
    }
  },
  "cells": [
    {
      "cell_type": "code",
      "source": [
        "!pip install pinecone-client openai tiktoken\n",
        "!pip install wikipedia\n",
        "!pip install langchain"
      ],
      "metadata": {
        "id": "7xqWmeTaUFjB"
      },
      "execution_count": null,
      "outputs": []
    },
    {
      "cell_type": "code",
      "execution_count": 21,
      "metadata": {
        "id": "ItA32ldk8UGY"
      },
      "outputs": [],
      "source": [
        "from langchain.document_loaders import WikipediaLoader\n",
        "from langchain.text_splitter import CharacterTextSplitter\n",
        "from langchain.embeddings.openai import OpenAIEmbeddings\n",
        "from langchain.vectorstores import Pinecone\n",
        "import openai\n",
        "import pinecone"
      ]
    },
    {
      "cell_type": "code",
      "source": [
        "open_ai_key = \"xxx\"\n",
        "index_name = \"xxx\"\n",
        "env_name = \"xxxx\"\n",
        "api_key = \"xxxx\""
      ],
      "metadata": {
        "id": "2m7F6Wu4USWE"
      },
      "execution_count": 22,
      "outputs": []
    },
    {
      "cell_type": "code",
      "source": [
        "docs = WikipediaLoader(query=\"Bitcoin\", load_max_docs=2).load()\n",
        "\n",
        "text_splitter = CharacterTextSplitter(\n",
        "    chunk_size=1000, chunk_overlap=20\n",
        ")\n",
        "documents = text_splitter.split_documents(docs)"
      ],
      "metadata": {
        "id": "drEHMXgT8lep"
      },
      "execution_count": null,
      "outputs": []
    },
    {
      "cell_type": "code",
      "source": [
        "model_name = 'text-embedding-ada-002'\n",
        "\n",
        "embed = OpenAIEmbeddings(\n",
        "    model=model_name,\n",
        "    openai_api_key=open_ai_key\n",
        ")"
      ],
      "metadata": {
        "id": "6ZKCkNnu-fZf"
      },
      "execution_count": 35,
      "outputs": []
    },
    {
      "cell_type": "code",
      "source": [
        "# initialize pinecone\n",
        "pinecone.init(\n",
        "    api_key=api_key,\n",
        "    environment=env_name,\n",
        ")\n",
        "\n",
        "if index_name not in pinecone.list_indexes():\n",
        "    pinecone.create_index(name=index_name, metric=\"cosine\", dimension=1536)\n",
        "\n",
        "texts = [page.page_content for page in documents]\n",
        "\n",
        "docsearch = Pinecone.from_texts(texts, embed,  metadatas=[\n",
        "    {\"bot_id\": \"testing\"}\n",
        "    for _ in range(len(texts))\n",
        "], index_name=index_name)"
      ],
      "metadata": {
        "id": "XBF0HuPz-0RS"
      },
      "execution_count": 43,
      "outputs": []
    },
    {
      "cell_type": "code",
      "source": [
        "docsearch.similarity_search(\"what is bitcoin\", k=2, filter={\n",
        "    \"bot_id\": \"6f3aaa2bb8b2f626e84f219ce325e9a4\"\n",
        "})"
      ],
      "metadata": {
        "colab": {
          "base_uri": "https://localhost:8080/"
        },
        "id": "LONuBLUPSdUd",
        "outputId": "8d50b636-7904-47af-f676-710ec4ebdb95"
      },
      "execution_count": 42,
      "outputs": [
        {
          "output_type": "execute_result",
          "data": {
            "text/plain": [
              "[Document(page_content='Bitcoin (abbreviation: BTC or XBT; sign: ₿) is the first decentralized cryptocurrency. Nodes in the peer-to-peer bitcoin network verify transactions through cryptography and record them in a public distributed ledger, called a blockchain, without central oversight. Consensus between nodes is achieved using a computationally intensive system based on proof-of-work called mining. Bitcoin mining requires increasing quantities of electricity and was responsible for 0.2% of world greenhouse gas emissions as of 2022.Based on a free market ideology, bitcoin was invented in 2008 by Satoshi Nakamoto, an unknown person. Use of bitcoin as a currency began in 2009, with the release of its open-source implementation.:\\u200ach. 1\\u200a In 2021, El Salvador adopted it as legal tender. Bitcoin is currently used more as a store of value and less as a medium of exchange or unit of account. It is mostly seen as an investment and has been described by many scholars as an economic bubble. As bitcoin is pseudonymous, its use by criminals has attracted the attention of regulators, leading to its ban by several countries as of 2021.', metadata={'bot_id': '6f3aaa2bb8b2f626e84f219ce325e9a4'}),\n",
              " Document(page_content=\"Bitcoin is a cryptocurrency, a digital asset that uses cryptography to control its creation and management rather than relying on central authorities. Originally designed as a medium of exchange, Bitcoin is now primarily regarded as a store of value. The history of bitcoin started with its invention and implementation by Satoshi Nakamoto, who integrated many existing ideas from the cryptography community. Over the course of bitcoin's history, it has undergone rapid growth to become a significant store of value both on- and offline. From the mid-2010s, some businesses began accepting bitcoin in addition to traditional currencies.\", metadata={'bot_id': '6f3aaa2bb8b2f626e84f219ce325e9a4'})]"
            ]
          },
          "metadata": {},
          "execution_count": 42
        }
      ]
    },
    {
      "cell_type": "code",
      "source": [
        "index = pinecone.Index(index_name)\n",
        "vectorstore = Pinecone(index, embed.embed_query, \"text\")"
      ],
      "metadata": {
        "colab": {
          "base_uri": "https://localhost:8080/"
        },
        "id": "bnnEYSaJXCsu",
        "outputId": "3d3414df-56ad-4765-d7e0-35588fd69d54"
      },
      "execution_count": 47,
      "outputs": [
        {
          "output_type": "stream",
          "name": "stderr",
          "text": [
            "/usr/local/lib/python3.10/dist-packages/langchain/vectorstores/pinecone.py:59: UserWarning: Passing in `embedding` as a Callable is deprecated. Please pass in an Embeddings object instead.\n",
            "  warnings.warn(\n"
          ]
        }
      ]
    },
    {
      "cell_type": "code",
      "source": [
        "vectorstore.add_texts([\"You need to set up a Neo4j 5.11 or greater to follow along with the examples in this blog post. The easiest way is to start a free instance on Neo4j Aura, which offers cloud instances of Neo4j database. Alternatively, you can also set up a local instance of the Neo4j database by downloading the Neo4j Desktop application and creating a local database instance.!\"], metadatas=[{\"bot_id\": \"safklnavio h239hoi2hvcow\"}])"
      ],
      "metadata": {
        "colab": {
          "base_uri": "https://localhost:8080/"
        },
        "id": "R3rW-GIglTBs",
        "outputId": "cf809bbe-b00e-428b-8a70-2b9066bd390c"
      },
      "execution_count": 49,
      "outputs": [
        {
          "output_type": "execute_result",
          "data": {
            "text/plain": [
              "['9e7b0e05-0f3c-45cd-a9b6-d54381d2df95']"
            ]
          },
          "metadata": {},
          "execution_count": 49
        }
      ]
    },
    {
      "cell_type": "code",
      "source": [],
      "metadata": {
        "id": "3tyAvCSplWZx"
      },
      "execution_count": null,
      "outputs": []
    }
  ]
}